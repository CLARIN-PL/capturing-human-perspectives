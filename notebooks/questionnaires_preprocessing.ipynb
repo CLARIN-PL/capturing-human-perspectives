{
 "cells": [
  {
   "cell_type": "code",
   "execution_count": 1,
   "metadata": {},
   "outputs": [],
   "source": [
    "import os\n",
    "import shutil\n",
    "\n",
    "import numpy as np\n",
    "import pandas as pd\n",
    "\n",
    "from pathlib import Path\n",
    "\n",
    "from tqdm import tqdm"
   ]
  },
  {
   "cell_type": "code",
   "execution_count": 3,
   "metadata": {},
   "outputs": [
    {
     "name": "stdout",
     "output_type": "stream",
     "text": [
      "Ankieta po 2 tygodniach badania.csv - 37 unique users (37 rows)\n",
      "Ankieta zwrotna.csv - 38 unique users (77 rows)\n",
      "Anotacja (na koniec badania).csv - 32 unique users (38 rows)\n",
      "Demografia.csv - 40 unique users (40 rows)\n",
      "Dobrostan: Skala Prosperowania.csv - 40 unique users (80 rows)\n",
      "Emocje (w przerwie).csv - 39 unique users (558 rows)\n",
      "Humor Styles Questionnaire.csv - 40 unique users (40 rows)\n",
      "IPIP-BFM-20 (Osobowość).csv - 40 unique users (40 rows)\n",
      "PAQ (Aleksytymia).csv - 40 unique users (80 rows)\n",
      "PHQ-9 (Depresja: Kwestionariusz Zdrowia Pacjenta).csv - 40 unique users (80 rows)\n",
      "Physical Health Questionnaire (Zdrowie).csv - 40 unique users (80 rows)\n",
      "PSS (Stres).csv - 40 unique users (80 rows)\n",
      "RESS-EMA (Regulacja emocji).csv - 40 unique users (80 rows)\n",
      "Sen (rano).csv - 40 unique users (1399 rows)\n",
      "SPANE (Dobrostan: Afekt).csv - 40 unique users (80 rows)\n",
      "Stres (rano).csv - 40 unique users (1396 rows)\n",
      "Stres (wieczorem).csv - 38 unique users (515 rows)\n",
      "SWLS-A (Dobrostan: Satysfakcja z życia).csv - 40 unique users (81 rows)\n",
      "Zdrowie (wieczorem).csv - 38 unique users (514 rows)\n",
      "Unique user lists: 1\n"
     ]
    }
   ],
   "source": [
    "questionnaires_dir = Path('..') / '..' / '..' / 'storage' / 'doccano' / '2023_ecai_nlperspectives' / 'questionnaire_data_2023-03-14'\n",
    "\n",
    "questionnaire_list = ['Ankieta po 2 tygodniach badania.csv', 'Ankieta zwrotna.csv', 'Anotacja (na koniec badania).csv', 'Demografia.csv',\n",
    "                      'Dobrostan: Skala Prosperowania.csv', 'Emocje (w przerwie).csv', 'Humor Styles Questionnaire.csv', 'IPIP-BFM-20 (Osobowość).csv',\n",
    "                      'PAQ (Aleksytymia).csv', 'PHQ-9 (Depresja: Kwestionariusz Zdrowia Pacjenta).csv', 'Physical Health Questionnaire (Zdrowie).csv',\n",
    "                      'PSS (Stres).csv', 'RESS-EMA (Regulacja emocji).csv', 'Sen (rano).csv', 'SPANE (Dobrostan: Afekt).csv', 'Stres (rano).csv',\n",
    "                      'Stres (wieczorem).csv', 'SWLS-A (Dobrostan: Satysfakcja z życia).csv', 'Zdrowie (wieczorem).csv']\n",
    "\n",
    "unique_user_lists = []\n",
    "\n",
    "for questionnaire_name in questionnaire_list:\n",
    "    temp_df = pd.read_csv(questionnaires_dir / questionnaire_name, sep=';')\n",
    "\n",
    "    questionnaire_user_list = sorted(list(temp_df.username.unique()))\n",
    "\n",
    "    if len(questionnaire_user_list) == 40 and not any(questionnaire_user_list == temp_list for temp_list in unique_user_lists):\n",
    "        unique_user_lists.append(questionnaire_user_list)\n",
    "\n",
    "    print(f'{questionnaire_name} - {len(temp_df.username.unique())} unique users ({len(temp_df)} rows)')\n",
    "\n",
    "print(f'Unique user lists: {len(unique_user_lists)}')\n"
   ]
  },
  {
   "cell_type": "code",
   "execution_count": 16,
   "metadata": {},
   "outputs": [],
   "source": [
    "user_list = unique_user_lists[0]\n",
    "\n",
    "user_mapping = {user: i for i, user in enumerate(user_list)}"
   ]
  },
  {
   "cell_type": "code",
   "execution_count": null,
   "metadata": {},
   "outputs": [],
   "source": [
    "# save questionaires with user mapping\n",
    "preprocessed_questionnaires_dir = questionnaires_dir / 'preprocessed'\n",
    "\n",
    "if preprocessed_questionnaires_dir.exists():\n",
    "    shutil.rmtree(preprocessed_questionnaires_dir)\n",
    "\n",
    "preprocessed_questionnaires_dir.mkdir()\n",
    "\n",
    "for questionnaire_name in questionnaire_list:\n",
    "    temp_df = pd.read_csv(questionnaires_dir / questionnaire_name, sep=';')\n",
    "\n",
    "    temp_df['username'] = temp_df['username'].map(user_mapping)\n",
    "\n",
    "    temp_df.to_csv(preprocessed_questionnaires_dir / questionnaire_name, sep=';', index=False)"
   ]
  }
 ],
 "metadata": {
  "kernelspec": {
   "display_name": "venv",
   "language": "python",
   "name": "python3"
  },
  "language_info": {
   "codemirror_mode": {
    "name": "ipython",
    "version": 3
   },
   "file_extension": ".py",
   "mimetype": "text/x-python",
   "name": "python",
   "nbconvert_exporter": "python",
   "pygments_lexer": "ipython3",
   "version": "3.10.9"
  },
  "orig_nbformat": 4
 },
 "nbformat": 4,
 "nbformat_minor": 2
}
